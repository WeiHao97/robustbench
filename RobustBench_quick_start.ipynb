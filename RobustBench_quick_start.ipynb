{
  "nbformat": 4,
  "nbformat_minor": 0,
  "metadata": {
    "accelerator": "GPU",
    "colab": {
      "name": "RobustBench: quick start.ipynb",
      "provenance": [],
      "collapsed_sections": [],
      "toc_visible": true,
      "include_colab_link": true
    },
    "kernelspec": {
      "display_name": "Python 3",
      "name": "python3"
    },
    "widgets": {
      "application/vnd.jupyter.widget-state+json": {
        "1a9ae6dc45d4468e88d001895dc44a8e": {
          "model_module": "@jupyter-widgets/controls",
          "model_name": "HBoxModel",
          "model_module_version": "1.5.0",
          "state": {
            "_view_name": "HBoxView",
            "_dom_classes": [],
            "_model_name": "HBoxModel",
            "_view_module": "@jupyter-widgets/controls",
            "_model_module_version": "1.5.0",
            "_view_count": null,
            "_view_module_version": "1.5.0",
            "box_style": "",
            "layout": "IPY_MODEL_3c942bdb129b46d190370728e70ad966",
            "_model_module": "@jupyter-widgets/controls",
            "children": [
              "IPY_MODEL_4e1b7854c8054d37841f3d5637475e3c",
              "IPY_MODEL_761c61be017649d6bb92b4dfc722d063",
              "IPY_MODEL_d94e5805ae2e48578f2612c2dcf54732"
            ]
          }
        },
        "3c942bdb129b46d190370728e70ad966": {
          "model_module": "@jupyter-widgets/base",
          "model_name": "LayoutModel",
          "model_module_version": "1.2.0",
          "state": {
            "_view_name": "LayoutView",
            "grid_template_rows": null,
            "right": null,
            "justify_content": null,
            "_view_module": "@jupyter-widgets/base",
            "overflow": null,
            "_model_module_version": "1.2.0",
            "_view_count": null,
            "flex_flow": null,
            "width": null,
            "min_width": null,
            "border": null,
            "align_items": null,
            "bottom": null,
            "_model_module": "@jupyter-widgets/base",
            "top": null,
            "grid_column": null,
            "overflow_y": null,
            "overflow_x": null,
            "grid_auto_flow": null,
            "grid_area": null,
            "grid_template_columns": null,
            "flex": null,
            "_model_name": "LayoutModel",
            "justify_items": null,
            "grid_row": null,
            "max_height": null,
            "align_content": null,
            "visibility": null,
            "align_self": null,
            "height": null,
            "min_height": null,
            "padding": null,
            "grid_auto_rows": null,
            "grid_gap": null,
            "max_width": null,
            "order": null,
            "_view_module_version": "1.2.0",
            "grid_template_areas": null,
            "object_position": null,
            "object_fit": null,
            "grid_auto_columns": null,
            "margin": null,
            "display": null,
            "left": null
          }
        },
        "4e1b7854c8054d37841f3d5637475e3c": {
          "model_module": "@jupyter-widgets/controls",
          "model_name": "HTMLModel",
          "model_module_version": "1.5.0",
          "state": {
            "_view_name": "HTMLView",
            "style": "IPY_MODEL_6b84b34f9c5d4483b896f22cc03d6a13",
            "_dom_classes": [],
            "description": "",
            "_model_name": "HTMLModel",
            "placeholder": "​",
            "_view_module": "@jupyter-widgets/controls",
            "_model_module_version": "1.5.0",
            "value": "",
            "_view_count": null,
            "_view_module_version": "1.5.0",
            "description_tooltip": null,
            "_model_module": "@jupyter-widgets/controls",
            "layout": "IPY_MODEL_07230b34d840433995a64b56b1a5c785"
          }
        },
        "761c61be017649d6bb92b4dfc722d063": {
          "model_module": "@jupyter-widgets/controls",
          "model_name": "FloatProgressModel",
          "model_module_version": "1.5.0",
          "state": {
            "_view_name": "ProgressView",
            "style": "IPY_MODEL_ec23b4cafba54aea867dc1019907a8ed",
            "_dom_classes": [],
            "description": "",
            "_model_name": "FloatProgressModel",
            "bar_style": "success",
            "max": 170498071,
            "_view_module": "@jupyter-widgets/controls",
            "_model_module_version": "1.5.0",
            "value": 170498071,
            "_view_count": null,
            "_view_module_version": "1.5.0",
            "orientation": "horizontal",
            "min": 0,
            "description_tooltip": null,
            "_model_module": "@jupyter-widgets/controls",
            "layout": "IPY_MODEL_fcd1facbe4e94aafba883e6bf748b534"
          }
        },
        "d94e5805ae2e48578f2612c2dcf54732": {
          "model_module": "@jupyter-widgets/controls",
          "model_name": "HTMLModel",
          "model_module_version": "1.5.0",
          "state": {
            "_view_name": "HTMLView",
            "style": "IPY_MODEL_767fe558952f44c9961d47e11a4493e6",
            "_dom_classes": [],
            "description": "",
            "_model_name": "HTMLModel",
            "placeholder": "​",
            "_view_module": "@jupyter-widgets/controls",
            "_model_module_version": "1.5.0",
            "value": " 170499072/? [00:02&lt;00:00, 78220638.77it/s]",
            "_view_count": null,
            "_view_module_version": "1.5.0",
            "description_tooltip": null,
            "_model_module": "@jupyter-widgets/controls",
            "layout": "IPY_MODEL_dca24049fbeb42dab3f22d445780a07e"
          }
        },
        "6b84b34f9c5d4483b896f22cc03d6a13": {
          "model_module": "@jupyter-widgets/controls",
          "model_name": "DescriptionStyleModel",
          "model_module_version": "1.5.0",
          "state": {
            "_view_name": "StyleView",
            "_model_name": "DescriptionStyleModel",
            "description_width": "",
            "_view_module": "@jupyter-widgets/base",
            "_model_module_version": "1.5.0",
            "_view_count": null,
            "_view_module_version": "1.2.0",
            "_model_module": "@jupyter-widgets/controls"
          }
        },
        "07230b34d840433995a64b56b1a5c785": {
          "model_module": "@jupyter-widgets/base",
          "model_name": "LayoutModel",
          "model_module_version": "1.2.0",
          "state": {
            "_view_name": "LayoutView",
            "grid_template_rows": null,
            "right": null,
            "justify_content": null,
            "_view_module": "@jupyter-widgets/base",
            "overflow": null,
            "_model_module_version": "1.2.0",
            "_view_count": null,
            "flex_flow": null,
            "width": null,
            "min_width": null,
            "border": null,
            "align_items": null,
            "bottom": null,
            "_model_module": "@jupyter-widgets/base",
            "top": null,
            "grid_column": null,
            "overflow_y": null,
            "overflow_x": null,
            "grid_auto_flow": null,
            "grid_area": null,
            "grid_template_columns": null,
            "flex": null,
            "_model_name": "LayoutModel",
            "justify_items": null,
            "grid_row": null,
            "max_height": null,
            "align_content": null,
            "visibility": null,
            "align_self": null,
            "height": null,
            "min_height": null,
            "padding": null,
            "grid_auto_rows": null,
            "grid_gap": null,
            "max_width": null,
            "order": null,
            "_view_module_version": "1.2.0",
            "grid_template_areas": null,
            "object_position": null,
            "object_fit": null,
            "grid_auto_columns": null,
            "margin": null,
            "display": null,
            "left": null
          }
        },
        "ec23b4cafba54aea867dc1019907a8ed": {
          "model_module": "@jupyter-widgets/controls",
          "model_name": "ProgressStyleModel",
          "model_module_version": "1.5.0",
          "state": {
            "_view_name": "StyleView",
            "_model_name": "ProgressStyleModel",
            "description_width": "",
            "_view_module": "@jupyter-widgets/base",
            "_model_module_version": "1.5.0",
            "_view_count": null,
            "_view_module_version": "1.2.0",
            "bar_color": null,
            "_model_module": "@jupyter-widgets/controls"
          }
        },
        "fcd1facbe4e94aafba883e6bf748b534": {
          "model_module": "@jupyter-widgets/base",
          "model_name": "LayoutModel",
          "model_module_version": "1.2.0",
          "state": {
            "_view_name": "LayoutView",
            "grid_template_rows": null,
            "right": null,
            "justify_content": null,
            "_view_module": "@jupyter-widgets/base",
            "overflow": null,
            "_model_module_version": "1.2.0",
            "_view_count": null,
            "flex_flow": null,
            "width": null,
            "min_width": null,
            "border": null,
            "align_items": null,
            "bottom": null,
            "_model_module": "@jupyter-widgets/base",
            "top": null,
            "grid_column": null,
            "overflow_y": null,
            "overflow_x": null,
            "grid_auto_flow": null,
            "grid_area": null,
            "grid_template_columns": null,
            "flex": null,
            "_model_name": "LayoutModel",
            "justify_items": null,
            "grid_row": null,
            "max_height": null,
            "align_content": null,
            "visibility": null,
            "align_self": null,
            "height": null,
            "min_height": null,
            "padding": null,
            "grid_auto_rows": null,
            "grid_gap": null,
            "max_width": null,
            "order": null,
            "_view_module_version": "1.2.0",
            "grid_template_areas": null,
            "object_position": null,
            "object_fit": null,
            "grid_auto_columns": null,
            "margin": null,
            "display": null,
            "left": null
          }
        },
        "767fe558952f44c9961d47e11a4493e6": {
          "model_module": "@jupyter-widgets/controls",
          "model_name": "DescriptionStyleModel",
          "model_module_version": "1.5.0",
          "state": {
            "_view_name": "StyleView",
            "_model_name": "DescriptionStyleModel",
            "description_width": "",
            "_view_module": "@jupyter-widgets/base",
            "_model_module_version": "1.5.0",
            "_view_count": null,
            "_view_module_version": "1.2.0",
            "_model_module": "@jupyter-widgets/controls"
          }
        },
        "dca24049fbeb42dab3f22d445780a07e": {
          "model_module": "@jupyter-widgets/base",
          "model_name": "LayoutModel",
          "model_module_version": "1.2.0",
          "state": {
            "_view_name": "LayoutView",
            "grid_template_rows": null,
            "right": null,
            "justify_content": null,
            "_view_module": "@jupyter-widgets/base",
            "overflow": null,
            "_model_module_version": "1.2.0",
            "_view_count": null,
            "flex_flow": null,
            "width": null,
            "min_width": null,
            "border": null,
            "align_items": null,
            "bottom": null,
            "_model_module": "@jupyter-widgets/base",
            "top": null,
            "grid_column": null,
            "overflow_y": null,
            "overflow_x": null,
            "grid_auto_flow": null,
            "grid_area": null,
            "grid_template_columns": null,
            "flex": null,
            "_model_name": "LayoutModel",
            "justify_items": null,
            "grid_row": null,
            "max_height": null,
            "align_content": null,
            "visibility": null,
            "align_self": null,
            "height": null,
            "min_height": null,
            "padding": null,
            "grid_auto_rows": null,
            "grid_gap": null,
            "max_width": null,
            "order": null,
            "_view_module_version": "1.2.0",
            "grid_template_areas": null,
            "object_position": null,
            "object_fit": null,
            "grid_auto_columns": null,
            "margin": null,
            "display": null,
            "left": null
          }
        }
      }
    }
  },
  "cells": [
    {
      "cell_type": "markdown",
      "metadata": {
        "id": "view-in-github",
        "colab_type": "text"
      },
      "source": [
        "<a href=\"https://colab.research.google.com/github/WeiHao97/robustbench/blob/master/RobustBench_quick_start.ipynb\" target=\"_parent\"><img src=\"https://colab.research.google.com/assets/colab-badge.svg\" alt=\"Open In Colab\"/></a>"
      ]
    },
    {
      "cell_type": "markdown",
      "metadata": {
        "id": "-cVPyc2o1X3l"
      },
      "source": [
        "## Install dependencies"
      ]
    },
    {
      "cell_type": "code",
      "metadata": {
        "colab": {
          "base_uri": "https://localhost:8080/"
        },
        "id": "aOfsbJD8j8ug",
        "outputId": "3bd0f7da-d236-4df4-91ad-da07e4066642"
      },
      "source": [
        "import warnings\n",
        "warnings.filterwarnings('ignore')\n",
        "!pip install -q git+https://github.com/RobustBench/robustbench.git@4093a133ec602efd76c1ac93d3b9714076ca8f34"
      ],
      "execution_count": null,
      "outputs": [
        {
          "output_type": "stream",
          "text": [
            "  Building wheel for robustbench (setup.py) ... \u001b[?25l\u001b[?25hdone\n"
          ],
          "name": "stdout"
        }
      ]
    },
    {
      "cell_type": "markdown",
      "metadata": {
        "id": "hpBvSIJr0-Rg"
      },
      "source": [
        "First let's enable GPU support in Colab (*Runtime -> Change runtime type -> Hardware accelerator -> GPU*). \n",
        "\n",
        "Now let's try to load CIFAR-10 and one of the most robust CIFAR-10 models from [Unlabeled Data Improves Adversarial Robustness](https://arxiv.org/abs/1905.13736) \n",
        "that achieves 59.53% robust accuracy evaluated with AutoAttack under Linf epsilon of 8/255 on 10k points:"
      ]
    },
    {
      "cell_type": "code",
      "metadata": {
        "colab": {
          "base_uri": "https://localhost:8080/",
          "height": 117,
          "referenced_widgets": [
            "1a9ae6dc45d4468e88d001895dc44a8e",
            "3c942bdb129b46d190370728e70ad966",
            "4e1b7854c8054d37841f3d5637475e3c",
            "761c61be017649d6bb92b4dfc722d063",
            "d94e5805ae2e48578f2612c2dcf54732",
            "6b84b34f9c5d4483b896f22cc03d6a13",
            "07230b34d840433995a64b56b1a5c785",
            "ec23b4cafba54aea867dc1019907a8ed",
            "fcd1facbe4e94aafba883e6bf748b534",
            "767fe558952f44c9961d47e11a4493e6",
            "dca24049fbeb42dab3f22d445780a07e"
          ]
        },
        "id": "HbQj0OdMkaXA",
        "outputId": "77fdfdc4-6b1e-42c7-9795-5ade15c32814"
      },
      "source": [
        "from robustbench.data import load_cifar10\n",
        "x_test, y_test = load_cifar10(n_examples=50)\n",
        "\n",
        "from robustbench.utils import load_model\n",
        "model = load_model(model_name='Carmon2019Unlabeled', threat_model='Linf')"
      ],
      "execution_count": null,
      "outputs": [
        {
          "output_type": "stream",
          "text": [
            "Downloading https://www.cs.toronto.edu/~kriz/cifar-10-python.tar.gz to ./data/cifar-10-python.tar.gz\n"
          ],
          "name": "stdout"
        },
        {
          "output_type": "display_data",
          "data": {
            "application/vnd.jupyter.widget-view+json": {
              "model_id": "1a9ae6dc45d4468e88d001895dc44a8e",
              "version_minor": 0,
              "version_major": 2
            },
            "text/plain": [
              "  0%|          | 0/170498071 [00:00<?, ?it/s]"
            ]
          },
          "metadata": {
            "tags": []
          }
        },
        {
          "output_type": "stream",
          "text": [
            "Extracting ./data/cifar-10-python.tar.gz to ./data\n",
            "Download started: path=models/cifar10/Linf/Carmon2019Unlabeled.pt (gdrive_id=15tUx-gkZMYx7BfEOw1GY5OKC-jECIsPQ)\n",
            "Download finished: path=models/cifar10/Linf/Carmon2019Unlabeled.pt (gdrive_id=15tUx-gkZMYx7BfEOw1GY5OKC-jECIsPQ)\n"
          ],
          "name": "stdout"
        }
      ]
    },
    {
      "cell_type": "markdown",
      "metadata": {
        "id": "wFzb8RE-2bnW"
      },
      "source": [
        "For other models available in the **Model Zoo**, see the model IDs in [this table](https://github.com/AdvBench/advbench#model-zoo-list-of-models)."
      ]
    },
    {
      "cell_type": "markdown",
      "metadata": {
        "id": "ONmXzKqvAmWX"
      },
      "source": [
        "## Evaluate your favourite attack from FoolBox\n",
        "\n",
        "Let's try to evaluate the robustness of this model. One can use any favourite library for this. For example, [FoolBox](https://github.com/bethgelab/foolbox) is a well-established library that implements many different attacks. We can start from a simple PGD attack and evaluate it on 50 points to illustrate how it works:"
      ]
    },
    {
      "cell_type": "code",
      "metadata": {
        "colab": {
          "base_uri": "https://localhost:8080/"
        },
        "id": "2xkdMSFVAlVc",
        "outputId": "31971916-798c-4ce5-b7d1-69f6a03a65a9"
      },
      "source": [
        "!pip install -q foolbox  # produces 2 incompatibility messages, but they can be just ignored\n",
        "import foolbox as fb\n",
        "\n",
        "model_fb = fb.PyTorchModel(model, bounds=(0, 1))\n",
        "_, advs, success = fb.attacks.LinfPGD(rel_stepsize=0.1, steps=20)(model_fb, x_test.to('cuda:0'), y_test.to('cuda:0'), epsilons=[8/255])\n",
        "print('Robust accuracy: {:.1%}'.format(1 - success.float().mean()))"
      ],
      "execution_count": null,
      "outputs": [
        {
          "output_type": "stream",
          "text": [
            "\u001b[K     |████████████████████████████████| 1.7MB 33.6MB/s \n",
            "\u001b[K     |████████████████████████████████| 61kB 9.0MB/s \n",
            "\u001b[K     |████████████████████████████████| 174kB 55.2MB/s \n",
            "\u001b[K     |████████████████████████████████| 71kB 11.1MB/s \n",
            "\u001b[31mERROR: robustbench 0.1 has requirement requests~=2.23.0, but you'll have requests 2.25.1 which is incompatible.\u001b[0m\n",
            "\u001b[31mERROR: google-colab 1.0.0 has requirement requests~=2.23.0, but you'll have requests 2.25.1 which is incompatible.\u001b[0m\n",
            "\u001b[31mERROR: datascience 0.10.6 has requirement folium==0.2.1, but you'll have folium 0.8.3 which is incompatible.\u001b[0m\n",
            "\u001b[?25hRobust accuracy: 58.0%\n"
          ],
          "name": "stdout"
        }
      ]
    },
    {
      "cell_type": "markdown",
      "metadata": {
        "id": "clL96DX41sG3"
      },
      "source": [
        "## AutoAttack evaluation\n",
        "\n",
        "Wonderful! Can we do better with a more accurate attack?\n",
        "\n",
        "Let's try to evaluate its robustness with a cheap version [AutoAttack](https://arxiv.org/abs/2003.01690) from \n",
        "ICML 2020 with 2/4 attacks (only APGD-CE and APGD-DLR) and again on 50 points:"
      ]
    },
    {
      "cell_type": "code",
      "metadata": {
        "colab": {
          "base_uri": "https://localhost:8080/"
        },
        "id": "YLGmSORskSW0",
        "outputId": "b7985a27-48ca-480f-a067-42744627dd5c"
      },
      "source": [
        "!pip install -q git+https://github.com/fra31/auto-attack\n",
        "from autoattack import AutoAttack\n",
        "\n",
        "adversary = AutoAttack(model, norm='Linf', eps=8/255, version='custom', attacks_to_run=['apgd-ce', 'apgd-dlr'])\n",
        "adversary.apgd.n_restarts = 1\n",
        "x_adv = adversary.run_standard_evaluation(x_test, y_test)"
      ],
      "execution_count": null,
      "outputs": [
        {
          "output_type": "stream",
          "text": [
            "  Building wheel for autoattack (setup.py) ... \u001b[?25l\u001b[?25hdone\n",
            "using custom version including apgd-ce, apgd-dlr\n",
            "initial accuracy: 92.00%\n",
            "apgd-ce - 1/1 - 19 out of 46 successfully perturbed\n",
            "robust accuracy after APGD-CE: 54.00% (total time 20.9 s)\n",
            "apgd-dlr - 1/1 - 1 out of 27 successfully perturbed\n",
            "robust accuracy after APGD-DLR: 52.00% (total time 34.3 s)\n",
            "max Linf perturbation: 0.03137, nan in tensor: 0, max: 1.00000, min: 0.00000\n",
            "robust accuracy: 52.00%\n"
          ],
          "name": "stdout"
        }
      ]
    },
    {
      "cell_type": "markdown",
      "metadata": {
        "id": "1MyAY3N117zx"
      },
      "source": [
        "Note that for our standardized evaluation of Linf-robustness we use the *full* version of AutoAttack which is slower but \n",
        "more accurate (for that just use `adversary = AutoAttack(model, norm='Linf', eps=8/255)`)."
      ]
    },
    {
      "cell_type": "markdown",
      "metadata": {
        "id": "itlePRumDopw"
      },
      "source": [
        "## Common corruptions\n",
        "\n",
        "What about other types of perturbations? Is Lp-robustness useful there? We can evaluate the available models on more general perturbations. For example, let's take images corrupted by *fog* perturbations from [CIFAR-10-C](https://github.com/hendrycks/robustness) with the highest level of severity (5). Are different Linf robust models perform better on them?"
      ]
    },
    {
      "cell_type": "code",
      "metadata": {
        "id": "WjdKgoW27YRn",
        "colab": {
          "base_uri": "https://localhost:8080/"
        },
        "outputId": "6bdfdb66-0d23-4bc1-f1cf-3081cdd2f214"
      },
      "source": [
        "from robustbench.data import load_cifar10c\n",
        "from robustbench.utils import clean_accuracy\n",
        "\n",
        "corruptions = ['fog']\n",
        "x_test, y_test = load_cifar10c(n_examples=1000, corruptions=corruptions, severity=5)   \n",
        "\n",
        "for model_name in ['Standard', 'Engstrom2019Robustness', 'Rice2020Overfitting', 'Carmon2019Unlabeled']:\n",
        "  model = load_model(model_name)\n",
        "  acc = clean_accuracy(model, x_test, y_test)\n",
        "  print('Model: {}, CIFAR-10-C accuracy: {:.1%}'.format(model_name, acc))"
      ],
      "execution_count": null,
      "outputs": [
        {
          "output_type": "stream",
          "text": [
            "Starting download from https://zenodo.org/api/files/a35f793a-6997-4603-a92f-926a6bc0fa60/CIFAR-10-C.tar\n"
          ],
          "name": "stdout"
        },
        {
          "output_type": "stream",
          "text": [
            "44533it [01:48, 411.31it/s]                           \n"
          ],
          "name": "stderr"
        }
      ]
    },
    {
      "cell_type": "markdown",
      "metadata": {
        "id": "DZWvfw2WOKKv"
      },
      "source": [
        "As we can see, **all** these Linf robust models perform considerably worse than the standard model on this type of corruptions. \n",
        "This curious phenomenon was first noticed in [Adversarial Examples Are a Natural Consequence of Test Error in Noise](https://arxiv.org/abs/1901.10513) and explained from the frequency perspective in [A Fourier Perspective on Model Robustness in Computer Vision](https://arxiv.org/abs/1906.08988). \n",
        "\n",
        "However, on average adversarial training *does* help on CIFAR-10-C. One can check this easily by loading all types of corruptions via `load_cifar10c(n_examples=1000, severity=5)`, and repeating evaluation on them."
      ]
    },
    {
      "cell_type": "markdown",
      "metadata": {
        "id": "P2SpVla4aTOj"
      },
      "source": [
        "## Concluding remarks\n",
        "We hope that having a *simple* and *unified* access to an up-to-date list of the most robust models will facilitate new insights about benefits and tradeoffs in robustness with respect to different types of perturbations.\n",
        "\n",
        "Feel free to contribute a new interesting dataset or analysis with novel insights! We will be happy to include it in the repository."
      ]
    }
  ]
}